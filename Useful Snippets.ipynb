{
 "cells": [
  {
   "cell_type": "code",
   "execution_count": 1,
   "metadata": {},
   "outputs": [],
   "source": [
    "# inspired from https://towardsdatascience.com/30-helpful-python-snippets-that-you-can-learn-in-30-seconds-or-less-69bb49204172"
   ]
  },
  {
   "cell_type": "code",
   "execution_count": 4,
   "metadata": {},
   "outputs": [
    {
     "name": "stdout",
     "output_type": "stream",
     "text": [
      "False\n",
      "True\n"
     ]
    }
   ],
   "source": [
    "## 1. All Unique\n",
    "\n",
    "def all_unique(L):\n",
    "    return len(L)==len(set(L))\n",
    "\n",
    "l1 = [1,1,1,2,3,4,5,6,7]\n",
    "l2 = [1,2,3,4,5,6,7]\n",
    "\n",
    "print(all_unique(l1))\n",
    "print(all_unique(l2))"
   ]
  },
  {
   "cell_type": "code",
   "execution_count": 7,
   "metadata": {},
   "outputs": [
    {
     "name": "stdout",
     "output_type": "stream",
     "text": [
      "True\n",
      "False\n"
     ]
    }
   ],
   "source": [
    "## 2. Anagrams\n",
    "from collections import Counter\n",
    "\n",
    "def anagram(w1, w2):\n",
    "    return Counter(w1)==Counter(w2)\n",
    "\n",
    "print(anagram('abcd3','3cbda'))\n",
    "print(anagram('abcd3','3cbd'))"
   ]
  },
  {
   "cell_type": "code",
   "execution_count": 10,
   "metadata": {},
   "outputs": [
    {
     "name": "stdout",
     "output_type": "stream",
     "text": [
      "28\n",
      "912\n"
     ]
    }
   ],
   "source": [
    "## 3. To check the memory usage of an object\n",
    "\n",
    "import sys\n",
    "\n",
    "var = 1024\n",
    "var2 = [i for i in range(100)]\n",
    "\n",
    "print(sys.getsizeof(var))\n",
    "print(sys.getsizeof(var2))"
   ]
  },
  {
   "cell_type": "code",
   "execution_count": 14,
   "metadata": {},
   "outputs": [
    {
     "name": "stdout",
     "output_type": "stream",
     "text": [
      "8\n",
      "4\n"
     ]
    }
   ],
   "source": [
    "## 4. Byte Size\n",
    "def byte_size(S):\n",
    "    return len(S.encode('utf-8'))\n",
    "print(byte_size('abhishek'))\n",
    "print(byte_size('😀'))"
   ]
  },
  {
   "cell_type": "code",
   "execution_count": 16,
   "metadata": {},
   "outputs": [
    {
     "name": "stdout",
     "output_type": "stream",
     "text": [
      "Hello Hello Hello \n"
     ]
    }
   ],
   "source": [
    "## Print a string n times\n",
    "n = 3\n",
    "S = 'Hello '\n",
    "print(S*n)"
   ]
  },
  {
   "cell_type": "code",
   "execution_count": 17,
   "metadata": {},
   "outputs": [
    {
     "name": "stdout",
     "output_type": "stream",
     "text": [
      "Hello World\n"
     ]
    }
   ],
   "source": [
    "## Capitalise first letter\n",
    "S = \"hello world\"\n",
    "print(S.title())"
   ]
  },
  {
   "cell_type": "code",
   "execution_count": 18,
   "metadata": {},
   "outputs": [
    {
     "name": "stdout",
     "output_type": "stream",
     "text": [
      "[[0, 1], [2, 3], [4, 5], [6, 7], [8, 9]]\n"
     ]
    }
   ],
   "source": [
    "## Chunkify the list\n",
    "def chunks(L, size):\n",
    "    return [L[i:i+size] for i in range(0, len(L), size)]\n",
    "L = [i for i in range(10)]\n",
    "print(chunks(L,2))"
   ]
  },
  {
   "cell_type": "code",
   "execution_count": 23,
   "metadata": {},
   "outputs": [
    {
     "name": "stdout",
     "output_type": "stream",
     "text": [
      "[1, 2, 3, 4, 3, 2, 7, 6, 8, 5]\n"
     ]
    }
   ],
   "source": [
    "def compact(lst):\n",
    "    return list(filter(None,lst))\n",
    "print(compact([0,1,2,3,4,3,2,False,\"\",None,7,6,8,5]))"
   ]
  },
  {
   "cell_type": "code",
   "execution_count": 25,
   "metadata": {},
   "outputs": [
    {
     "name": "stdout",
     "output_type": "stream",
     "text": [
      "[[1, 2], [3, 4]]\n",
      "[(1, 3), (2, 4)]\n"
     ]
    }
   ],
   "source": [
    "def transpose(A):\n",
    "    return list(zip(*A))\n",
    "\n",
    "A = [[1, 2],[3, 4]]\n",
    "print(A)\n",
    "print(transpose(A))"
   ]
  },
  {
   "cell_type": "code",
   "execution_count": 27,
   "metadata": {},
   "outputs": [
    {
     "name": "stdout",
     "output_type": "stream",
     "text": [
      "True\n",
      "True\n"
     ]
    }
   ],
   "source": [
    "# Chained comparison\n",
    "a = 5\n",
    "print(2<a<10)\n",
    "print(5==a<10)"
   ]
  }
 ],
 "metadata": {
  "kernelspec": {
   "display_name": "Python 3",
   "language": "python",
   "name": "python3"
  },
  "language_info": {
   "codemirror_mode": {
    "name": "ipython",
    "version": 3
   },
   "file_extension": ".py",
   "mimetype": "text/x-python",
   "name": "python",
   "nbconvert_exporter": "python",
   "pygments_lexer": "ipython3",
   "version": "3.7.2"
  }
 },
 "nbformat": 4,
 "nbformat_minor": 2
}
